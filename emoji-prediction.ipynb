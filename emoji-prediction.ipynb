{
 "cells": [
  {
   "cell_type": "code",
   "execution_count": 1,
   "metadata": {
    "id": "OElqkAVC0Kjx"
   },
   "outputs": [],
   "source": [
    "#Importing Libraries\n",
    "import numpy as np\n",
    "import pandas as pd\n",
    "import emoji"
   ]
  },
  {
   "cell_type": "code",
   "execution_count": 3,
   "metadata": {
    "id": "-vvyTmJd0Kj_"
   },
   "outputs": [],
   "source": [
    "mapping = pd.read_csv(\"/content/drive/MyDrive/dataset/Mapping.csv\")\n",
    "train = pd.read_csv(\"/content/drive/MyDrive/dataset/Train.csv\")\n",
    "test = pd.read_csv(\"/content/drive/MyDrive/dataset/Test.csv\", header = None)\n",
    "out = pd.read_csv(\"/content/drive/MyDrive/dataset/OutputFormat.csv\")"
   ]
  },
  {
   "cell_type": "markdown",
   "metadata": {
    "id": "manherSPASWw"
   },
   "source": [
    "## Pre-Processing"
   ]
  },
  {
   "cell_type": "code",
   "execution_count": 4,
   "metadata": {
    "id": "JqRzuptv0KkA"
   },
   "outputs": [],
   "source": [
    "mapping = mapping.drop(['Unnamed: 0'], axis = 1)"
   ]
  },
  {
   "cell_type": "code",
   "execution_count": 5,
   "metadata": {
    "id": "prqFnTKl0KkB"
   },
   "outputs": [],
   "source": [
    "emoticons = mapping['emoticons'].tolist()"
   ]
  },
  {
   "cell_type": "code",
   "execution_count": 21,
   "metadata": {
    "id": "8mOljzWT0KkC"
   },
   "outputs": [],
   "source": [
    "mapping_dict = {}\n",
    "for emo in range(0,len(emoticons)):\n",
    "    mapping_dict[emo]= emoticons[emo]"
   ]
  },
  {
   "cell_type": "code",
   "execution_count": 22,
   "metadata": {
    "colab": {
     "base_uri": "https://localhost:8080/"
    },
    "id": "5IBsCdg10KkD",
    "outputId": "6cc5e2d7-4809-4682-be2c-19882e91d696"
   },
   "outputs": [
    {
     "data": {
      "text/plain": [
       "{0: '😜',\n",
       " 1: '📸',\n",
       " 2: '😍',\n",
       " 3: '😂',\n",
       " 4: '😉',\n",
       " 5: '🎄',\n",
       " 6: '📷',\n",
       " 7: '🔥',\n",
       " 8: '😘',\n",
       " 9: '❤',\n",
       " 10: '😁',\n",
       " 11: '🇺🇸',\n",
       " 12: '☀',\n",
       " 13: '✨',\n",
       " 14: '💙',\n",
       " 15: '💕',\n",
       " 16: '😎',\n",
       " 17: '😊',\n",
       " 18: '💜',\n",
       " 19: '💯'}"
      ]
     },
     "execution_count": 22,
     "metadata": {},
     "output_type": "execute_result"
    }
   ],
   "source": [
    "mapping_dict"
   ]
  },
  {
   "cell_type": "code",
   "execution_count": 11,
   "metadata": {
    "id": "C4Eirg850KkH"
   },
   "outputs": [],
   "source": [
    "train = train.drop(['Unnamed: 0'], axis = 1)\n",
    "test = test.drop(['Unnamed: 0'], axis = 1)"
   ]
  },
  {
   "cell_type": "code",
   "execution_count": 13,
   "metadata": {
    "colab": {
     "base_uri": "https://localhost:8080/",
     "height": 423
    },
    "id": "Id1OSwe_0KkJ",
    "outputId": "723a331b-46dc-4a17-fa5d-6f3bc78d3a12"
   },
   "outputs": [
    {
     "data": {
      "text/html": [
       "<div>\n",
       "<style scoped>\n",
       "    .dataframe tbody tr th:only-of-type {\n",
       "        vertical-align: middle;\n",
       "    }\n",
       "\n",
       "    .dataframe tbody tr th {\n",
       "        vertical-align: top;\n",
       "    }\n",
       "\n",
       "    .dataframe thead th {\n",
       "        text-align: right;\n",
       "    }\n",
       "</style>\n",
       "<table border=\"1\" class=\"dataframe\">\n",
       "  <thead>\n",
       "    <tr style=\"text-align: right;\">\n",
       "      <th></th>\n",
       "      <th>TEXT</th>\n",
       "      <th>Label</th>\n",
       "    </tr>\n",
       "  </thead>\n",
       "  <tbody>\n",
       "    <tr>\n",
       "      <th>0</th>\n",
       "      <td>Vacation wasted ! #vacation2017 #photobomb #ti...</td>\n",
       "      <td>0</td>\n",
       "    </tr>\n",
       "    <tr>\n",
       "      <th>1</th>\n",
       "      <td>Oh Wynwood, you’re so funny! : @user #Wynwood ...</td>\n",
       "      <td>1</td>\n",
       "    </tr>\n",
       "    <tr>\n",
       "      <th>2</th>\n",
       "      <td>Been friends since 7th grade. Look at us now w...</td>\n",
       "      <td>2</td>\n",
       "    </tr>\n",
       "    <tr>\n",
       "      <th>3</th>\n",
       "      <td>This is what it looks like when someone loves ...</td>\n",
       "      <td>3</td>\n",
       "    </tr>\n",
       "    <tr>\n",
       "      <th>4</th>\n",
       "      <td>RT @user this white family was invited to a Bl...</td>\n",
       "      <td>3</td>\n",
       "    </tr>\n",
       "    <tr>\n",
       "      <th>...</th>\n",
       "      <td>...</td>\n",
       "      <td>...</td>\n",
       "    </tr>\n",
       "    <tr>\n",
       "      <th>69995</th>\n",
       "      <td>Yes, I call Galina \"my Bubie\" Go follow my bea...</td>\n",
       "      <td>3</td>\n",
       "    </tr>\n",
       "    <tr>\n",
       "      <th>69996</th>\n",
       "      <td>I SEA you, Seattle @ Ballard Seafood Festival\\n</td>\n",
       "      <td>16</td>\n",
       "    </tr>\n",
       "    <tr>\n",
       "      <th>69997</th>\n",
       "      <td>If one of my daughters is wearing this and ask...</td>\n",
       "      <td>2</td>\n",
       "    </tr>\n",
       "    <tr>\n",
       "      <th>69998</th>\n",
       "      <td>Guess who whoop people on THEIR homecoming?! #...</td>\n",
       "      <td>3</td>\n",
       "    </tr>\n",
       "    <tr>\n",
       "      <th>69999</th>\n",
       "      <td>We Love you Robbie @ Heritage Memorial Cemeter...</td>\n",
       "      <td>14</td>\n",
       "    </tr>\n",
       "  </tbody>\n",
       "</table>\n",
       "<p>70000 rows × 2 columns</p>\n",
       "</div>"
      ],
      "text/plain": [
       "                                                    TEXT  Label\n",
       "0      Vacation wasted ! #vacation2017 #photobomb #ti...      0\n",
       "1      Oh Wynwood, you’re so funny! : @user #Wynwood ...      1\n",
       "2      Been friends since 7th grade. Look at us now w...      2\n",
       "3      This is what it looks like when someone loves ...      3\n",
       "4      RT @user this white family was invited to a Bl...      3\n",
       "...                                                  ...    ...\n",
       "69995  Yes, I call Galina \"my Bubie\" Go follow my bea...      3\n",
       "69996    I SEA you, Seattle @ Ballard Seafood Festival\\n     16\n",
       "69997  If one of my daughters is wearing this and ask...      2\n",
       "69998  Guess who whoop people on THEIR homecoming?! #...      3\n",
       "69999  We Love you Robbie @ Heritage Memorial Cemeter...     14\n",
       "\n",
       "[70000 rows x 2 columns]"
      ]
     },
     "execution_count": 13,
     "metadata": {},
     "output_type": "execute_result"
    }
   ],
   "source": [
    "train"
   ]
  },
  {
   "cell_type": "code",
   "execution_count": 16,
   "metadata": {
    "id": "Jfglot_R0KkL"
   },
   "outputs": [],
   "source": [
    "x_train = train['TEXT'].values\n",
    "y_train = train['Label'].values"
   ]
  },
  {
   "cell_type": "code",
   "execution_count": 18,
   "metadata": {
    "id": "ae2JnwrR0KkM"
   },
   "outputs": [
    {
     "data": {
      "text/plain": [
       "(70000,)"
      ]
     },
     "execution_count": 18,
     "metadata": {},
     "output_type": "execute_result"
    }
   ],
   "source": [
    "x_train.shape"
   ]
  },
  {
   "cell_type": "markdown",
   "metadata": {
    "id": "jyG843bF0KkO"
   },
   "source": [
    "## Embeddings"
   ]
  },
  {
   "cell_type": "code",
   "execution_count": 11,
   "metadata": {
    "id": "BmtZm3W00KkT"
   },
   "outputs": [],
   "source": [
    "f = open(\"/content/drive/MyDrive/embedding/glove.6B.50d.txt\", encoding='utf8')"
   ]
  },
  {
   "cell_type": "code",
   "execution_count": 12,
   "metadata": {
    "id": "DoQegjgz0KkW"
   },
   "outputs": [],
   "source": [
    "embedding_index = {}\n",
    "\n",
    "for line in f:\n",
    "    values = line.split()\n",
    "    word = values[0]\n",
    "    emb = np.array(values[1:], dtype ='float')\n",
    "    embedding_index[word] = emb"
   ]
  },
  {
   "cell_type": "code",
   "execution_count": 13,
   "metadata": {
    "colab": {
     "base_uri": "https://localhost:8080/"
    },
    "id": "XTZ6XBDR0KkY",
    "outputId": "48a7e953-fc5a-4f1d-f4aa-84edc8fcc7a0"
   },
   "outputs": [
    {
     "data": {
      "text/plain": [
       "(50,)"
      ]
     },
     "execution_count": 13,
     "metadata": {},
     "output_type": "execute_result"
    }
   ],
   "source": [
    "embedding_index['america'].shape"
   ]
  },
  {
   "cell_type": "code",
   "execution_count": 14,
   "metadata": {
    "id": "Tk4fgdxY0Kka"
   },
   "outputs": [],
   "source": [
    "def get_embedding_output(X):\n",
    "    maxLen = 20\n",
    "    embedding_output = np.zeros((len(X), maxLen, 50))\n",
    "\n",
    "    for ix in range(X.shape[0]):\n",
    "        my_example = X[ix].split()\n",
    "\n",
    "        for ij in range(len(my_example)):\n",
    "            if (embedding_index.get(my_example[ij].lower()) is not None) and (ij<maxLen):\n",
    "                embedding_output[ix][ij] = embedding_index[my_example[ij].lower()]\n",
    "\n",
    "    return embedding_output"
   ]
  },
  {
   "cell_type": "code",
   "execution_count": 15,
   "metadata": {
    "id": "HlL8MnBH0Kkc"
   },
   "outputs": [],
   "source": [
    "x_train_embed = get_embedding_output(x_train)"
   ]
  },
  {
   "cell_type": "code",
   "execution_count": 16,
   "metadata": {
    "colab": {
     "base_uri": "https://localhost:8080/"
    },
    "id": "V3P4EPGZ0Kkd",
    "outputId": "ac2d8146-abbf-4cdd-af18-ee34bdd73857"
   },
   "outputs": [
    {
     "data": {
      "text/plain": [
       "(70000, 20, 50)"
      ]
     },
     "execution_count": 16,
     "metadata": {},
     "output_type": "execute_result"
    }
   ],
   "source": [
    "x_train_embed.shape"
   ]
  },
  {
   "cell_type": "code",
   "execution_count": 17,
   "metadata": {
    "id": "h0Xk7Zwq0Kkf"
   },
   "outputs": [],
   "source": [
    "from keras.utils import to_categorical"
   ]
  },
  {
   "cell_type": "code",
   "execution_count": 18,
   "metadata": {
    "id": "URsSRHpA0Kkg"
   },
   "outputs": [],
   "source": [
    "y_train = to_categorical(y_train)"
   ]
  },
  {
   "cell_type": "code",
   "execution_count": 19,
   "metadata": {
    "colab": {
     "base_uri": "https://localhost:8080/"
    },
    "id": "oY_RFOXI0Kkg",
    "outputId": "4e8d9718-ff63-4bed-e10c-9ea77c922a02"
   },
   "outputs": [
    {
     "data": {
      "text/plain": [
       "array([0., 1., 0., 0., 0., 0., 0., 0., 0., 0., 0., 0., 0., 0., 0., 0., 0.,\n",
       "       0., 0., 0.], dtype=float32)"
      ]
     },
     "execution_count": 19,
     "metadata": {},
     "output_type": "execute_result"
    }
   ],
   "source": [
    "y_train[1]"
   ]
  },
  {
   "cell_type": "markdown",
   "metadata": {
    "id": "jw_kkbhC0Kkh"
   },
   "source": [
    "## SMOTE - Oversampling Technique"
   ]
  },
  {
   "cell_type": "code",
   "execution_count": 20,
   "metadata": {
    "id": "5KcwmYPf0Kki"
   },
   "outputs": [],
   "source": [
    "from imblearn.over_sampling import SMOTE"
   ]
  },
  {
   "cell_type": "code",
   "execution_count": 21,
   "metadata": {
    "colab": {
     "base_uri": "https://localhost:8080/"
    },
    "id": "Nd6Vy3qV0Kki",
    "outputId": "bd702f92-4756-4539-eccd-c53e8a49a4c8"
   },
   "outputs": [
    {
     "data": {
      "text/plain": [
       "(70000, 20, 50)"
      ]
     },
     "execution_count": 21,
     "metadata": {},
     "output_type": "execute_result"
    }
   ],
   "source": [
    "x_train_embed.shape"
   ]
  },
  {
   "cell_type": "code",
   "execution_count": 22,
   "metadata": {
    "id": "X2jaWjJt0Kkk"
   },
   "outputs": [],
   "source": [
    "x_train_embed = x_train_embed.reshape(-1, 1000)"
   ]
  },
  {
   "cell_type": "code",
   "execution_count": 23,
   "metadata": {
    "colab": {
     "base_uri": "https://localhost:8080/"
    },
    "id": "jD1Mnn3X0Kkl",
    "outputId": "ba08399b-0313-49e3-c482-b91df925f325"
   },
   "outputs": [
    {
     "data": {
      "text/plain": [
       "array([[1., 0., 0., ..., 0., 0., 0.],\n",
       "       [0., 1., 0., ..., 0., 0., 0.],\n",
       "       [0., 0., 1., ..., 0., 0., 0.],\n",
       "       ...,\n",
       "       [0., 0., 1., ..., 0., 0., 0.],\n",
       "       [0., 0., 0., ..., 0., 0., 0.],\n",
       "       [0., 0., 0., ..., 0., 0., 0.]], dtype=float32)"
      ]
     },
     "execution_count": 23,
     "metadata": {},
     "output_type": "execute_result"
    }
   ],
   "source": [
    "y_train"
   ]
  },
  {
   "cell_type": "code",
   "execution_count": 24,
   "metadata": {
    "id": "haknVZYM0Kkm"
   },
   "outputs": [],
   "source": [
    "oversample = SMOTE()\n",
    "X, y = oversample.fit_resample(x_train_embed, y_train)"
   ]
  },
  {
   "cell_type": "code",
   "execution_count": 25,
   "metadata": {
    "colab": {
     "base_uri": "https://localhost:8080/"
    },
    "id": "oSdlEZPN0Kkn",
    "outputId": "916af691-58b4-4e03-80c7-76ce26d96bf0"
   },
   "outputs": [
    {
     "data": {
      "text/plain": [
       "((301820, 20, 50), (301820, 20))"
      ]
     },
     "execution_count": 25,
     "metadata": {},
     "output_type": "execute_result"
    }
   ],
   "source": [
    "X = X.reshape(-1, 20, 50)\n",
    "X.shape, y.shape"
   ]
  },
  {
   "cell_type": "markdown",
   "metadata": {
    "id": "yBqJBtL10Kkp"
   },
   "source": [
    "## Split"
   ]
  },
  {
   "cell_type": "code",
   "execution_count": 26,
   "metadata": {
    "id": "O1oC5DoF0Kkq"
   },
   "outputs": [],
   "source": [
    "from sklearn.model_selection import train_test_split"
   ]
  },
  {
   "cell_type": "code",
   "execution_count": 27,
   "metadata": {
    "id": "IAtZ3Btr0Kks"
   },
   "outputs": [],
   "source": [
    "x1, x2, y1, y2 = train_test_split(X, y, test_size=0.2, random_state=42)"
   ]
  },
  {
   "cell_type": "code",
   "execution_count": 72,
   "metadata": {
    "colab": {
     "base_uri": "https://localhost:8080/"
    },
    "id": "GWdrhPGr0Kkt",
    "outputId": "4563872a-72af-44ae-eef7-32f307427bc1"
   },
   "outputs": [
    {
     "data": {
      "text/plain": [
       "(241456, 20, 50)"
      ]
     },
     "execution_count": 72,
     "metadata": {},
     "output_type": "execute_result"
    }
   ],
   "source": [
    "x1.shape"
   ]
  },
  {
   "cell_type": "markdown",
   "metadata": {
    "id": "8lhY4lF00Kkv"
   },
   "source": [
    "## LSTM Model"
   ]
  },
  {
   "cell_type": "code",
   "execution_count": 29,
   "metadata": {
    "id": "4JVPeXKP0Kkx"
   },
   "outputs": [],
   "source": [
    "from keras.models import Sequential\n",
    "from keras.layers import LSTM, Dense, Dropout, Bidirectional"
   ]
  },
  {
   "cell_type": "code",
   "execution_count": 30,
   "metadata": {
    "colab": {
     "base_uri": "https://localhost:8080/"
    },
    "id": "CaogAMeX0Kkx",
    "outputId": "180b2645-35e4-46fb-968a-ac4e2f8f2a1a"
   },
   "outputs": [
    {
     "name": "stdout",
     "output_type": "stream",
     "text": [
      "Model: \"sequential\"\n",
      "_________________________________________________________________\n",
      " Layer (type)                Output Shape              Param #   \n",
      "=================================================================\n",
      " bidirectional (Bidirection  (None, 20, 1024)          2306048   \n",
      " al)                                                             \n",
      "                                                                 \n",
      " dropout (Dropout)           (None, 20, 1024)          0         \n",
      "                                                                 \n",
      " bidirectional_1 (Bidirecti  (None, 512)               2623488   \n",
      " onal)                                                           \n",
      "                                                                 \n",
      " dropout_1 (Dropout)         (None, 512)               0         \n",
      "                                                                 \n",
      " dense (Dense)               (None, 128)               65664     \n",
      "                                                                 \n",
      " dense_1 (Dense)             (None, 64)                8256      \n",
      "                                                                 \n",
      " dense_2 (Dense)             (None, 32)                2080      \n",
      "                                                                 \n",
      " dense_3 (Dense)             (None, 20)                660       \n",
      "                                                                 \n",
      "=================================================================\n",
      "Total params: 5006196 (19.10 MB)\n",
      "Trainable params: 5006196 (19.10 MB)\n",
      "Non-trainable params: 0 (0.00 Byte)\n",
      "_________________________________________________________________\n"
     ]
    }
   ],
   "source": [
    "model = Sequential()\n",
    "model.add(Bidirectional(LSTM(units = 512, return_sequences=True), input_shape = (20,50)))\n",
    "model.add(Dropout(0.3))\n",
    "model.add(Bidirectional(LSTM(units=256)))\n",
    "model.add(Dropout(0.3))\n",
    "model.add(Dense(units=128, activation='relu'))\n",
    "model.add(Dense(units=64, activation='relu'))\n",
    "model.add(Dense(units=32, activation='relu'))\n",
    "model.add(Dense(units=20, activation='softmax'))\n",
    "model.summary()"
   ]
  },
  {
   "cell_type": "code",
   "execution_count": 31,
   "metadata": {
    "id": "mXyTFglD0Kkz"
   },
   "outputs": [],
   "source": [
    "model.compile(optimizer='adam', loss='categorical_crossentropy', metrics =['accuracy'])"
   ]
  },
  {
   "cell_type": "code",
   "execution_count": 32,
   "metadata": {
    "colab": {
     "base_uri": "https://localhost:8080/"
    },
    "id": "tZIrsUGQ0Kk0",
    "outputId": "7ae88995-2ba1-4fa8-c531-1a5d8bc1acff"
   },
   "outputs": [
    {
     "name": "stdout",
     "output_type": "stream",
     "text": [
      "Epoch 1/20\n",
      "3019/3019 [==============================] - 87s 24ms/step - loss: 2.5728 - accuracy: 0.2035 - val_loss: 2.3595 - val_accuracy: 0.2724\n",
      "Epoch 2/20\n",
      "3019/3019 [==============================] - 72s 24ms/step - loss: 2.1311 - accuracy: 0.3424 - val_loss: 1.8453 - val_accuracy: 0.4302\n",
      "Epoch 3/20\n",
      "3019/3019 [==============================] - 72s 24ms/step - loss: 1.5572 - accuracy: 0.5176 - val_loss: 1.3875 - val_accuracy: 0.5742\n",
      "Epoch 4/20\n",
      "3019/3019 [==============================] - 72s 24ms/step - loss: 1.1285 - accuracy: 0.6487 - val_loss: 1.1095 - val_accuracy: 0.6647\n",
      "Epoch 5/20\n",
      "3019/3019 [==============================] - 68s 23ms/step - loss: 0.8650 - accuracy: 0.7292 - val_loss: 0.9890 - val_accuracy: 0.7108\n",
      "Epoch 6/20\n",
      "3019/3019 [==============================] - 72s 24ms/step - loss: 0.7020 - accuracy: 0.7795 - val_loss: 0.9153 - val_accuracy: 0.7382\n",
      "Epoch 7/20\n",
      "3019/3019 [==============================] - 72s 24ms/step - loss: 0.5923 - accuracy: 0.8139 - val_loss: 0.8379 - val_accuracy: 0.7628\n",
      "Epoch 8/20\n",
      "3019/3019 [==============================] - 72s 24ms/step - loss: 0.5175 - accuracy: 0.8376 - val_loss: 0.7884 - val_accuracy: 0.7768\n",
      "Epoch 9/20\n",
      "3019/3019 [==============================] - 69s 23ms/step - loss: 0.4559 - accuracy: 0.8571 - val_loss: 0.7710 - val_accuracy: 0.7890\n",
      "Epoch 10/20\n",
      "3019/3019 [==============================] - 67s 22ms/step - loss: 0.4148 - accuracy: 0.8696 - val_loss: 0.7967 - val_accuracy: 0.7904\n",
      "Epoch 11/20\n",
      "3019/3019 [==============================] - 72s 24ms/step - loss: 0.3805 - accuracy: 0.8807 - val_loss: 0.7736 - val_accuracy: 0.7966\n",
      "Epoch 12/20\n",
      "3019/3019 [==============================] - 72s 24ms/step - loss: 0.3552 - accuracy: 0.8881 - val_loss: 0.7806 - val_accuracy: 0.8004\n",
      "Epoch 13/20\n",
      "3019/3019 [==============================] - 72s 24ms/step - loss: 0.3338 - accuracy: 0.8950 - val_loss: 0.7722 - val_accuracy: 0.8021\n",
      "Epoch 14/20\n",
      "3019/3019 [==============================] - 72s 24ms/step - loss: 0.3131 - accuracy: 0.9019 - val_loss: 0.7824 - val_accuracy: 0.8066\n",
      "Epoch 15/20\n",
      "3019/3019 [==============================] - 73s 24ms/step - loss: 0.2986 - accuracy: 0.9058 - val_loss: 0.7837 - val_accuracy: 0.8044\n",
      "Epoch 16/20\n",
      "3019/3019 [==============================] - 72s 24ms/step - loss: 0.2808 - accuracy: 0.9117 - val_loss: 0.7624 - val_accuracy: 0.8086\n",
      "Epoch 17/20\n",
      "3019/3019 [==============================] - 73s 24ms/step - loss: 0.2711 - accuracy: 0.9146 - val_loss: 0.7525 - val_accuracy: 0.8109\n",
      "Epoch 18/20\n",
      "3019/3019 [==============================] - 68s 23ms/step - loss: 0.2627 - accuracy: 0.9173 - val_loss: 0.7686 - val_accuracy: 0.8123\n",
      "Epoch 19/20\n",
      "3019/3019 [==============================] - 68s 23ms/step - loss: 0.2516 - accuracy: 0.9202 - val_loss: 0.7697 - val_accuracy: 0.8143\n",
      "Epoch 20/20\n",
      "3019/3019 [==============================] - 72s 24ms/step - loss: 0.2444 - accuracy: 0.9232 - val_loss: 0.7789 - val_accuracy: 0.8158\n"
     ]
    }
   ],
   "source": [
    "hist = model.fit(x1, y1, validation_split=0.2, shuffle=True, batch_size=64, epochs=20)"
   ]
  },
  {
   "cell_type": "code",
   "execution_count": null,
   "metadata": {
    "id": "nbU2DX4bA1Ge"
   },
   "outputs": [],
   "source": [
    "##"
   ]
  },
  {
   "cell_type": "markdown",
   "metadata": {
    "id": "7oBDJY1mA2BK"
   },
   "source": [
    "## Evaluation & Testing"
   ]
  },
  {
   "cell_type": "code",
   "execution_count": 33,
   "metadata": {
    "colab": {
     "base_uri": "https://localhost:8080/"
    },
    "id": "AW3j5ex90Kk1",
    "outputId": "aac32ae2-e213-4194-91e3-ef1dcb46d03f"
   },
   "outputs": [
    {
     "name": "stdout",
     "output_type": "stream",
     "text": [
      "1887/1887 [==============================] - 20s 10ms/step - loss: 0.7823 - accuracy: 0.8165\n"
     ]
    },
    {
     "data": {
      "text/plain": [
       "[0.782325804233551, 0.8165296912193298]"
      ]
     },
     "execution_count": 33,
     "metadata": {},
     "output_type": "execute_result"
    }
   ],
   "source": [
    "model.evaluate(x2, y2)"
   ]
  },
  {
   "cell_type": "code",
   "execution_count": 37,
   "metadata": {
    "colab": {
     "base_uri": "https://localhost:8080/",
     "height": 423
    },
    "id": "X6jW2lp_8hV_",
    "outputId": "c25388c4-d713-43cf-c51d-e82855220ecd"
   },
   "outputs": [
    {
     "data": {
      "text/html": [
       "\n",
       "  <div id=\"df-2298c8d2-8612-4c31-851e-f6ca70bb1d67\" class=\"colab-df-container\">\n",
       "    <div>\n",
       "<style scoped>\n",
       "    .dataframe tbody tr th:only-of-type {\n",
       "        vertical-align: middle;\n",
       "    }\n",
       "\n",
       "    .dataframe tbody tr th {\n",
       "        vertical-align: top;\n",
       "    }\n",
       "\n",
       "    .dataframe thead th {\n",
       "        text-align: right;\n",
       "    }\n",
       "</style>\n",
       "<table border=\"1\" class=\"dataframe\">\n",
       "  <thead>\n",
       "    <tr style=\"text-align: right;\">\n",
       "      <th></th>\n",
       "      <th>0</th>\n",
       "      <th>1</th>\n",
       "      <th>2</th>\n",
       "    </tr>\n",
       "  </thead>\n",
       "  <tbody>\n",
       "    <tr>\n",
       "      <th>0</th>\n",
       "      <td>NaN</td>\n",
       "      <td>id</td>\n",
       "      <td>TEXT</td>\n",
       "    </tr>\n",
       "    <tr>\n",
       "      <th>1</th>\n",
       "      <td>0.0</td>\n",
       "      <td>0</td>\n",
       "      <td>Thought this was cool...#Repost (get_repost)・・...</td>\n",
       "    </tr>\n",
       "    <tr>\n",
       "      <th>2</th>\n",
       "      <td>1.0</td>\n",
       "      <td>1</td>\n",
       "      <td>Happy 4th! Corte madera parade. #everytownusa ...</td>\n",
       "    </tr>\n",
       "    <tr>\n",
       "      <th>3</th>\n",
       "      <td>2.0</td>\n",
       "      <td>2</td>\n",
       "      <td>Luv. Or at least something close to it. @ Unio...</td>\n",
       "    </tr>\n",
       "    <tr>\n",
       "      <th>4</th>\n",
       "      <td>3.0</td>\n",
       "      <td>3</td>\n",
       "      <td>There's a slice of pie under that whipped crea...</td>\n",
       "    </tr>\n",
       "    <tr>\n",
       "      <th>...</th>\n",
       "      <td>...</td>\n",
       "      <td>...</td>\n",
       "      <td>...</td>\n",
       "    </tr>\n",
       "    <tr>\n",
       "      <th>25954</th>\n",
       "      <td>7493.0</td>\n",
       "      <td>29993</td>\n",
       "      <td>Rest In Peace, Nana. thanks for playing cards ...</td>\n",
       "    </tr>\n",
       "    <tr>\n",
       "      <th>25955</th>\n",
       "      <td>7494.0</td>\n",
       "      <td>29994</td>\n",
       "      <td>I jus wan EAT #chowtime #swt30 @ Hartford, Con...</td>\n",
       "    </tr>\n",
       "    <tr>\n",
       "      <th>25956</th>\n",
       "      <td>7495.0</td>\n",
       "      <td>29995</td>\n",
       "      <td>Playing Bloon SuperMonkey 2 #bloonsupermonkey2...</td>\n",
       "    </tr>\n",
       "    <tr>\n",
       "      <th>25957</th>\n",
       "      <td>7498.0</td>\n",
       "      <td>29998</td>\n",
       "      <td>Best Snow-cone I've EVER had!!! #bahamabucks #...</td>\n",
       "    </tr>\n",
       "    <tr>\n",
       "      <th>25958</th>\n",
       "      <td>7499.0</td>\n",
       "      <td>29999</td>\n",
       "      <td>You making my life better is just part of your...</td>\n",
       "    </tr>\n",
       "  </tbody>\n",
       "</table>\n",
       "<p>25959 rows × 3 columns</p>\n",
       "</div>\n",
       "    <div class=\"colab-df-buttons\">\n",
       "\n",
       "  <div class=\"colab-df-container\">\n",
       "    <button class=\"colab-df-convert\" onclick=\"convertToInteractive('df-2298c8d2-8612-4c31-851e-f6ca70bb1d67')\"\n",
       "            title=\"Convert this dataframe to an interactive table.\"\n",
       "            style=\"display:none;\">\n",
       "\n",
       "  <svg xmlns=\"http://www.w3.org/2000/svg\" height=\"24px\" viewBox=\"0 -960 960 960\">\n",
       "    <path d=\"M120-120v-720h720v720H120Zm60-500h600v-160H180v160Zm220 220h160v-160H400v160Zm0 220h160v-160H400v160ZM180-400h160v-160H180v160Zm440 0h160v-160H620v160ZM180-180h160v-160H180v160Zm440 0h160v-160H620v160Z\"/>\n",
       "  </svg>\n",
       "    </button>\n",
       "\n",
       "  <style>\n",
       "    .colab-df-container {\n",
       "      display:flex;\n",
       "      gap: 12px;\n",
       "    }\n",
       "\n",
       "    .colab-df-convert {\n",
       "      background-color: #E8F0FE;\n",
       "      border: none;\n",
       "      border-radius: 50%;\n",
       "      cursor: pointer;\n",
       "      display: none;\n",
       "      fill: #1967D2;\n",
       "      height: 32px;\n",
       "      padding: 0 0 0 0;\n",
       "      width: 32px;\n",
       "    }\n",
       "\n",
       "    .colab-df-convert:hover {\n",
       "      background-color: #E2EBFA;\n",
       "      box-shadow: 0px 1px 2px rgba(60, 64, 67, 0.3), 0px 1px 3px 1px rgba(60, 64, 67, 0.15);\n",
       "      fill: #174EA6;\n",
       "    }\n",
       "\n",
       "    .colab-df-buttons div {\n",
       "      margin-bottom: 4px;\n",
       "    }\n",
       "\n",
       "    [theme=dark] .colab-df-convert {\n",
       "      background-color: #3B4455;\n",
       "      fill: #D2E3FC;\n",
       "    }\n",
       "\n",
       "    [theme=dark] .colab-df-convert:hover {\n",
       "      background-color: #434B5C;\n",
       "      box-shadow: 0px 1px 3px 1px rgba(0, 0, 0, 0.15);\n",
       "      filter: drop-shadow(0px 1px 2px rgba(0, 0, 0, 0.3));\n",
       "      fill: #FFFFFF;\n",
       "    }\n",
       "  </style>\n",
       "\n",
       "    <script>\n",
       "      const buttonEl =\n",
       "        document.querySelector('#df-2298c8d2-8612-4c31-851e-f6ca70bb1d67 button.colab-df-convert');\n",
       "      buttonEl.style.display =\n",
       "        google.colab.kernel.accessAllowed ? 'block' : 'none';\n",
       "\n",
       "      async function convertToInteractive(key) {\n",
       "        const element = document.querySelector('#df-2298c8d2-8612-4c31-851e-f6ca70bb1d67');\n",
       "        const dataTable =\n",
       "          await google.colab.kernel.invokeFunction('convertToInteractive',\n",
       "                                                    [key], {});\n",
       "        if (!dataTable) return;\n",
       "\n",
       "        const docLinkHtml = 'Like what you see? Visit the ' +\n",
       "          '<a target=\"_blank\" href=https://colab.research.google.com/notebooks/data_table.ipynb>data table notebook</a>'\n",
       "          + ' to learn more about interactive tables.';\n",
       "        element.innerHTML = '';\n",
       "        dataTable['output_type'] = 'display_data';\n",
       "        await google.colab.output.renderOutput(dataTable, element);\n",
       "        const docLink = document.createElement('div');\n",
       "        docLink.innerHTML = docLinkHtml;\n",
       "        element.appendChild(docLink);\n",
       "      }\n",
       "    </script>\n",
       "  </div>\n",
       "\n",
       "\n",
       "<div id=\"df-ceadfa7d-b26c-45fc-bcf2-e3adbe32fffb\">\n",
       "  <button class=\"colab-df-quickchart\" onclick=\"quickchart('df-ceadfa7d-b26c-45fc-bcf2-e3adbe32fffb')\"\n",
       "            title=\"Suggest charts.\"\n",
       "            style=\"display:none;\">\n",
       "\n",
       "<svg xmlns=\"http://www.w3.org/2000/svg\" height=\"24px\"viewBox=\"0 0 24 24\"\n",
       "     width=\"24px\">\n",
       "    <g>\n",
       "        <path d=\"M19 3H5c-1.1 0-2 .9-2 2v14c0 1.1.9 2 2 2h14c1.1 0 2-.9 2-2V5c0-1.1-.9-2-2-2zM9 17H7v-7h2v7zm4 0h-2V7h2v10zm4 0h-2v-4h2v4z\"/>\n",
       "    </g>\n",
       "</svg>\n",
       "  </button>\n",
       "\n",
       "<style>\n",
       "  .colab-df-quickchart {\n",
       "      --bg-color: #E8F0FE;\n",
       "      --fill-color: #1967D2;\n",
       "      --hover-bg-color: #E2EBFA;\n",
       "      --hover-fill-color: #174EA6;\n",
       "      --disabled-fill-color: #AAA;\n",
       "      --disabled-bg-color: #DDD;\n",
       "  }\n",
       "\n",
       "  [theme=dark] .colab-df-quickchart {\n",
       "      --bg-color: #3B4455;\n",
       "      --fill-color: #D2E3FC;\n",
       "      --hover-bg-color: #434B5C;\n",
       "      --hover-fill-color: #FFFFFF;\n",
       "      --disabled-bg-color: #3B4455;\n",
       "      --disabled-fill-color: #666;\n",
       "  }\n",
       "\n",
       "  .colab-df-quickchart {\n",
       "    background-color: var(--bg-color);\n",
       "    border: none;\n",
       "    border-radius: 50%;\n",
       "    cursor: pointer;\n",
       "    display: none;\n",
       "    fill: var(--fill-color);\n",
       "    height: 32px;\n",
       "    padding: 0;\n",
       "    width: 32px;\n",
       "  }\n",
       "\n",
       "  .colab-df-quickchart:hover {\n",
       "    background-color: var(--hover-bg-color);\n",
       "    box-shadow: 0 1px 2px rgba(60, 64, 67, 0.3), 0 1px 3px 1px rgba(60, 64, 67, 0.15);\n",
       "    fill: var(--button-hover-fill-color);\n",
       "  }\n",
       "\n",
       "  .colab-df-quickchart-complete:disabled,\n",
       "  .colab-df-quickchart-complete:disabled:hover {\n",
       "    background-color: var(--disabled-bg-color);\n",
       "    fill: var(--disabled-fill-color);\n",
       "    box-shadow: none;\n",
       "  }\n",
       "\n",
       "  .colab-df-spinner {\n",
       "    border: 2px solid var(--fill-color);\n",
       "    border-color: transparent;\n",
       "    border-bottom-color: var(--fill-color);\n",
       "    animation:\n",
       "      spin 1s steps(1) infinite;\n",
       "  }\n",
       "\n",
       "  @keyframes spin {\n",
       "    0% {\n",
       "      border-color: transparent;\n",
       "      border-bottom-color: var(--fill-color);\n",
       "      border-left-color: var(--fill-color);\n",
       "    }\n",
       "    20% {\n",
       "      border-color: transparent;\n",
       "      border-left-color: var(--fill-color);\n",
       "      border-top-color: var(--fill-color);\n",
       "    }\n",
       "    30% {\n",
       "      border-color: transparent;\n",
       "      border-left-color: var(--fill-color);\n",
       "      border-top-color: var(--fill-color);\n",
       "      border-right-color: var(--fill-color);\n",
       "    }\n",
       "    40% {\n",
       "      border-color: transparent;\n",
       "      border-right-color: var(--fill-color);\n",
       "      border-top-color: var(--fill-color);\n",
       "    }\n",
       "    60% {\n",
       "      border-color: transparent;\n",
       "      border-right-color: var(--fill-color);\n",
       "    }\n",
       "    80% {\n",
       "      border-color: transparent;\n",
       "      border-right-color: var(--fill-color);\n",
       "      border-bottom-color: var(--fill-color);\n",
       "    }\n",
       "    90% {\n",
       "      border-color: transparent;\n",
       "      border-bottom-color: var(--fill-color);\n",
       "    }\n",
       "  }\n",
       "</style>\n",
       "\n",
       "  <script>\n",
       "    async function quickchart(key) {\n",
       "      const quickchartButtonEl =\n",
       "        document.querySelector('#' + key + ' button');\n",
       "      quickchartButtonEl.disabled = true;  // To prevent multiple clicks.\n",
       "      quickchartButtonEl.classList.add('colab-df-spinner');\n",
       "      try {\n",
       "        const charts = await google.colab.kernel.invokeFunction(\n",
       "            'suggestCharts', [key], {});\n",
       "      } catch (error) {\n",
       "        console.error('Error during call to suggestCharts:', error);\n",
       "      }\n",
       "      quickchartButtonEl.classList.remove('colab-df-spinner');\n",
       "      quickchartButtonEl.classList.add('colab-df-quickchart-complete');\n",
       "    }\n",
       "    (() => {\n",
       "      let quickchartButtonEl =\n",
       "        document.querySelector('#df-ceadfa7d-b26c-45fc-bcf2-e3adbe32fffb button');\n",
       "      quickchartButtonEl.style.display =\n",
       "        google.colab.kernel.accessAllowed ? 'block' : 'none';\n",
       "    })();\n",
       "  </script>\n",
       "</div>\n",
       "    </div>\n",
       "  </div>\n"
      ],
      "text/plain": [
       "            0      1                                                  2\n",
       "0         NaN     id                                               TEXT\n",
       "1         0.0      0  Thought this was cool...#Repost (get_repost)・・...\n",
       "2         1.0      1  Happy 4th! Corte madera parade. #everytownusa ...\n",
       "3         2.0      2  Luv. Or at least something close to it. @ Unio...\n",
       "4         3.0      3  There's a slice of pie under that whipped crea...\n",
       "...       ...    ...                                                ...\n",
       "25954  7493.0  29993  Rest In Peace, Nana. thanks for playing cards ...\n",
       "25955  7494.0  29994  I jus wan EAT #chowtime #swt30 @ Hartford, Con...\n",
       "25956  7495.0  29995  Playing Bloon SuperMonkey 2 #bloonsupermonkey2...\n",
       "25957  7498.0  29998  Best Snow-cone I've EVER had!!! #bahamabucks #...\n",
       "25958  7499.0  29999  You making my life better is just part of your...\n",
       "\n",
       "[25959 rows x 3 columns]"
      ]
     },
     "execution_count": 37,
     "metadata": {},
     "output_type": "execute_result"
    }
   ],
   "source": [
    "test"
   ]
  },
  {
   "cell_type": "code",
   "execution_count": 36,
   "metadata": {
    "id": "HA3v5c9p7LRC"
   },
   "outputs": [],
   "source": [
    "X_test = get_embedding_output(test[2].values)"
   ]
  },
  {
   "cell_type": "code",
   "execution_count": 38,
   "metadata": {
    "colab": {
     "base_uri": "https://localhost:8080/"
    },
    "id": "BUVuFzxK9J4j",
    "outputId": "d5f185d2-2645-411e-b14c-a8da37766521"
   },
   "outputs": [
    {
     "name": "stdout",
     "output_type": "stream",
     "text": [
      "812/812 [==============================] - 7s 6ms/step\n"
     ]
    }
   ],
   "source": [
    "predicted = model.predict(X_test)"
   ]
  },
  {
   "cell_type": "code",
   "execution_count": 39,
   "metadata": {
    "colab": {
     "base_uri": "https://localhost:8080/"
    },
    "id": "A8NgL6lk9nft",
    "outputId": "47e1609f-fbcb-477d-8ac9-27495116b8ed"
   },
   "outputs": [
    {
     "data": {
      "text/plain": [
       "array([[8.1792850e-06, 2.6179688e-02, 7.9176627e-02, ..., 2.5778337e-04,\n",
       "        6.5214466e-05, 3.5340514e-03],\n",
       "       [2.6043470e-10, 9.9992692e-01, 1.4386666e-07, ..., 3.5088412e-09,\n",
       "        1.6890539e-09, 1.5152231e-08],\n",
       "       [4.6679142e-04, 5.4583390e-04, 8.7764324e-04, ..., 9.4674271e-01,\n",
       "        1.2883934e-05, 1.1311165e-05],\n",
       "       ...,\n",
       "       [1.4761041e-05, 1.0880732e-01, 6.7311717e-04, ..., 1.1505117e-04,\n",
       "        5.6129134e-05, 2.9814748e-06],\n",
       "       [2.3294226e-04, 6.9344766e-04, 2.7463993e-02, ..., 8.1523118e-05,\n",
       "        1.3381093e-05, 9.7060757e-04],\n",
       "       [2.8141070e-04, 2.9742900e-02, 5.4898858e-03, ..., 4.2968546e-03,\n",
       "        1.0675840e-02, 8.0930585e-01]], dtype=float32)"
      ]
     },
     "execution_count": 39,
     "metadata": {},
     "output_type": "execute_result"
    }
   ],
   "source": [
    "predicted"
   ]
  },
  {
   "cell_type": "code",
   "execution_count": 40,
   "metadata": {
    "id": "fRExc74c9ru5"
   },
   "outputs": [],
   "source": [
    "classes = np.argmax(predicted, axis = 1)"
   ]
  },
  {
   "cell_type": "code",
   "execution_count": 46,
   "metadata": {
    "colab": {
     "base_uri": "https://localhost:8080/"
    },
    "id": "aOZ4qAo_8Tam",
    "outputId": "0bc456c0-3fc2-443b-db2f-b06e4bd0f0e8"
   },
   "outputs": [
    {
     "data": {
      "text/plain": [
       "array([ 9,  1, 17, ...,  6,  7, 19])"
      ]
     },
     "execution_count": 46,
     "metadata": {},
     "output_type": "execute_result"
    }
   ],
   "source": [
    "classes"
   ]
  },
  {
   "cell_type": "code",
   "execution_count": 71,
   "metadata": {
    "colab": {
     "base_uri": "https://localhost:8080/"
    },
    "id": "6p9wa1Td9YJS",
    "outputId": "c20ea0f3-e841-45bf-8e9c-5619fbfd98a8"
   },
   "outputs": [
    {
     "name": "stdout",
     "output_type": "stream",
     "text": [
      "TEXT ❤\n",
      "Thought this was cool...#Repost (get_repost)・・・Colorview. by shay_images…\n",
      " 📸\n",
      "Happy 4th! Corte madera parade. #everytownusa #merica @ Perry's on…\n",
      " 😊\n",
      "Luv. Or at least something close to it. @ Union Hill, Richmond, Virginia\n",
      " 😍\n",
      "There's a slice of pie under that whipped cream. #HouseofPies @ House of Pies\n",
      " 😂\n",
      "#thankyou for your thank you We adore you both + plan on moreeeee! Hosting your #wedding was…\n",
      " ✨\n",
      "the SPECIAL4U Lyric video will be posted on my youtube channel today at 6PM EST ! #Z…\n",
      " 🔥\n",
      "Momma Tanya's In town ! Awesome dinner @user with friends! @ Perch\n",
      " ❤\n",
      "Thing 1 and Thing 2 @ Huron, Ohio\n",
      " ✨\n",
      "Bday girl and some random @ Sheraton New York Times Square\n",
      " 😂\n",
      "Always fun with my forever wedding date Congrats @user &amp; @user\n",
      " ✨\n",
      "La La Land @ Griffith Park Observatory-Los Angeles ,CA\n",
      " 🎄\n",
      "Friends. #Seattle @ Seattle, Washington\n",
      " 💜\n",
      "#GETIT #GOTIT #GOOD #WHATEVERIWANT #BOW @ Oakland, California\n",
      " 😍\n",
      "Hanging with my bestie for the day ️#mtlove #hyalite #daysoff #fishing #endofsummer…\n",
      " 💜\n",
      "Stoked to be sitting in with @user at the @user tonight!! Therese folks are @ Great…\n",
      " ☀\n",
      "S/O Luxe Doll @user Her YouTube review on her channel for @user will be uploaded…\n",
      " ✨\n",
      "We’re proud to be Americans #sas2017 #tpusa @ West Palm Beach,…\n",
      " 💙\n",
      "- This was gonna be my lunch for tommorow....BUT, it never made it to the refrigerator , 12…\n",
      " 🔥\n",
      "Winter or summer, Chicago is pretty any time of the year... #mycity #chicago #mychicagopix…\n",
      " ✨\n",
      "Shoutout to Delores and Herbert for the drinks, bed, and good times @user @ Ottawa, Illinois\n",
      " 😊\n",
      "One of my favorite gyms FREE Fucking membership, just get your ass up . @ Balboa Park\n",
      " 😎\n",
      "Hanging with this guy today Thank you @user for the great shoot filled with plenty of…\n",
      " 💕\n",
      "mood today @ Parkway North High School\n",
      " 😎\n",
      "Chandelier @ Widener Library\n",
      " ✨\n",
      "Sorry to jump on the bandwagon. #thisfilteriseverything @ Las…\n",
      " 😂\n",
      "️ @ Princeton, New Jersey\n",
      " 💜\n",
      "My main man @ Gladstone, Missouri\n",
      " 💜\n",
      "Eat shit Irma #ghostriotradio #hurricaneirma #irmanators #goodforsprinkle #pbr…\n",
      " 😍\n",
      "Max went on his first aquarium trip and went on a moving walkway. He did amazing! ️ Check out…\n",
      " 😍\n",
      "#ikea #fun #me ... oh this dam store, it's like disney for interior architect's @ IKEA\n",
      " 🔥\n",
      "It's like I blinked and 2 years just flew by @ Short Pump Town Center\n",
      " 😍\n",
      "When moment you meet your future husband!!! @user #marlonovershawn #teammarlon @ Stress…\n",
      " 😂\n",
      "We were working so hard today @ McDonald's at 16827 Marsh Rd\n",
      " 😂\n",
      "\"No Flocking\" shot by @user coming soon! #LSV2 available now on #datpiff #freestyle…\n",
      " 🔥\n",
      "@user Dj Ivan G! One Mixer, One Man, One Dj, That Rocks The Party! Always with Mixes for…\n",
      " ✨\n",
      "the only michigan state fan I can actually put up with @ University of…\n",
      " 😂\n",
      "Face of an angel... ️ #dogsofinstagram #bulldogs #pittbull #olddog #doglove #sleepingdog @user\n",
      " 😂\n",
      "At drop in's - we wear pink. #YouAreWhatYouNetflix #MeanGirls @ Beale Avenue (Beale Street)\n",
      " 🔥\n",
      "i just wanna feel what I feel, when its just u and me @ Shoreline Amphitheatre At Mountain View\n",
      " ❤\n",
      "Another one from my fav spot #dtlaeveryday #canon #instamood #instagramhub #instagram…\n",
      " 📷\n",
      "Willy's point of view is...bumpy #gopro #goprosession4 #hikingwithdogs #willybob @ Lost Hills…\n",
      " 💯\n",
      "i like this movie &amp; also recommend to watch @ Amc Loews 34th…\n",
      " 😎\n",
      "Red White &amp; Boujee #doitlooklikeiwasleftoffbadandboujee @ Somewhere\n",
      " 🇺🇸\n",
      "You really are one in a Emily-on @ Copper Beech Townhomes- Morgantown\n",
      " 😍\n",
      "{blessed} with the sisters beside me and the love between us. #hbuphimu…\n",
      " 😍\n",
      "Put Me In Coach ft @user @user coming soon #chicagotodallas @ Arlington,…\n",
      " 🔥\n",
      "1st place in Prose Reading! @ Park Hill High School\n",
      " 😍\n",
      "Spiderman (@ Century 20 Daly City - @user in Daly City, CA)\n",
      " 😍\n",
      "Oh the weather outside is frightful but my fire ( ) is so delightful and I have no place to go,…\n",
      " 😂\n"
     ]
    }
   ],
   "source": [
    "for i in range(50):\n",
    "    print(test[2].iloc[i], emoji.emojize(mapping_dict[classes[i]]))"
   ]
  },
  {
   "cell_type": "code",
   "execution_count": 66,
   "metadata": {
    "id": "DAYrsMV079Cq"
   },
   "outputs": [],
   "source": [
    "messages = np.array(['I love you', 'send me pictures', 'I am feeling good'])"
   ]
  },
  {
   "cell_type": "code",
   "execution_count": 67,
   "metadata": {
    "id": "eXZNi9ts-syx"
   },
   "outputs": [],
   "source": [
    "emb_messages = get_embedding_output(messages)"
   ]
  },
  {
   "cell_type": "code",
   "execution_count": 68,
   "metadata": {
    "colab": {
     "base_uri": "https://localhost:8080/"
    },
    "id": "tdcL_68k-xm_",
    "outputId": "6d1dacbe-83d6-4bf8-db8d-83788c9fa6a3"
   },
   "outputs": [
    {
     "name": "stdout",
     "output_type": "stream",
     "text": [
      "812/812 [==============================] - 5s 6ms/step\n"
     ]
    }
   ],
   "source": [
    "predict_messages = model.predict(X_test)"
   ]
  },
  {
   "cell_type": "code",
   "execution_count": 69,
   "metadata": {
    "id": "d0mBFO5v-9lf"
   },
   "outputs": [],
   "source": [
    "class_messages = np.argmax(predicted, axis = 1)"
   ]
  },
  {
   "cell_type": "code",
   "execution_count": 70,
   "metadata": {
    "colab": {
     "base_uri": "https://localhost:8080/"
    },
    "id": "92E06iWh_Isf",
    "outputId": "35b78e6d-6244-45e6-abd3-ccff8bd808ac"
   },
   "outputs": [
    {
     "name": "stdout",
     "output_type": "stream",
     "text": [
      "I love you ❤\n",
      "send me pictures 📸\n",
      "I am feeling good 😊\n"
     ]
    }
   ],
   "source": [
    "for i in range(len(messages)):\n",
    "    print(messages[i], emoji.emojize(mapping_dict[class_messages[i]]))"
   ]
  },
  {
   "cell_type": "code",
   "execution_count": null,
   "metadata": {
    "id": "0hurAtE6_Z6Q"
   },
   "outputs": [],
   "source": []
  }
 ],
 "metadata": {
  "accelerator": "GPU",
  "colab": {
   "provenance": []
  },
  "kernelspec": {
   "display_name": "Python 3 (ipykernel)",
   "language": "python",
   "name": "python3"
  },
  "language_info": {
   "codemirror_mode": {
    "name": "ipython",
    "version": 3
   },
   "file_extension": ".py",
   "mimetype": "text/x-python",
   "name": "python",
   "nbconvert_exporter": "python",
   "pygments_lexer": "ipython3",
   "version": "3.10.9"
  }
 },
 "nbformat": 4,
 "nbformat_minor": 1
}
